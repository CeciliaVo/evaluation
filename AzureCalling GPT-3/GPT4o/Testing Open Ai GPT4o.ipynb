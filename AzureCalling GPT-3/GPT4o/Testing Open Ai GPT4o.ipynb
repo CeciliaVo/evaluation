{
 "cells": [
  {
   "cell_type": "code",
   "execution_count": 1,
   "id": "2ec65be4",
   "metadata": {},
   "outputs": [
    {
     "name": "stdout",
     "output_type": "stream",
     "text": [
      "[\n",
      "  {\n",
      "    \"cloudName\": \"AzureCloud\",\n",
      "    \"homeTenantId\": \"d1323671-cdbe-4417-b4d4-bdb24b51316b\",\n",
      "    \"id\": \"a2e1c71d-152c-4e29-aa75-4b727701ee03\",\n",
      "    \"isDefault\": false,\n",
      "    \"managedByTenants\": [],\n",
      "    \"name\": \"OpenAI_Service_Test\",\n",
      "    \"state\": \"Disabled\",\n",
      "    \"tenantDefaultDomain\": \"rmiteduau.onmicrosoft.com\",\n",
      "    \"tenantDisplayName\": \"RMIT University \",\n",
      "    \"tenantId\": \"d1323671-cdbe-4417-b4d4-bdb24b51316b\",\n",
      "    \"user\": {\n",
      "      \"name\": \"S3911365@rmit.edu.vn\",\n",
      "      \"type\": \"user\"\n",
      "    }\n",
      "  },\n",
      "  {\n",
      "    \"cloudName\": \"AzureCloud\",\n",
      "    \"homeTenantId\": \"d1323671-cdbe-4417-b4d4-bdb24b51316b\",\n",
      "    \"id\": \"9c8d86a9-3354-4459-a9db-bdfc161a157c\",\n",
      "    \"isDefault\": true,\n",
      "    \"managedByTenants\": [],\n",
      "    \"name\": \"Azure subscription 1\",\n",
      "    \"state\": \"Enabled\",\n",
      "    \"tenantDefaultDomain\": \"rmiteduau.onmicrosoft.com\",\n",
      "    \"tenantDisplayName\": \"RMIT University \",\n",
      "    \"tenantId\": \"d1323671-cdbe-4417-b4d4-bdb24b51316b\",\n",
      "    \"user\": {\n",
      "      \"name\": \"S3911365@rmit.edu.vn\",\n",
      "      \"type\": \"user\"\n",
      "    }\n",
      "  }\n",
      "]\n"
     ]
    },
    {
     "name": "stderr",
     "output_type": "stream",
     "text": [
      "WARNING: Select the account you want to log in with. For more information on login with Azure CLI, see https://go.microsoft.com/fwlink/?linkid=2271136\n"
     ]
    }
   ],
   "source": [
    "!az login"
   ]
  },
  {
   "cell_type": "code",
   "execution_count": null,
   "id": "1dd9cba3",
   "metadata": {},
   "outputs": [],
   "source": [
    "import os\n",
    "from openai import AzureOpenAI\n",
    "from azure.identity import DefaultAzureCredential, get_bearer_token_provider\n",
    "\n",
    "# Ensure these environment variables are set correctly\n",
    "endpoint = os.getenv(\"ENDPOINT_URL\", \"https://fine-tune-testing.openai.azure.com/\")\n",
    "deployment = os.getenv(\"DEPLOYMENT_NAME\", \"testingtrainmodel\")\n",
    "\n",
    "token_provider = get_bearer_token_provider(\n",
    "    DefaultAzureCredential(),\n",
    "    \"https://cognitiveservices.azure.com/.default\"\n",
    ")\n",
    "\n",
    "client = AzureOpenAI(\n",
    "    azure_endpoint=endpoint,\n",
    "    azure_ad_token_provider=token_provider,\n",
    "    api_version=\"2024-05-01-preview\",\n",
    ")\n",
    "\n",
    "completion = client.chat.completions.create(\n",
    "    model=deployment,\n",
    "    messages=[\n",
    "        {\n",
    "            \"role\": \"user\",\n",
    "            \"content\": \"What are the differences between Azure Machine Learning and Azure AI services?\"\n",
    "        }\n",
    "    ],\n",
    "    max_tokens=800,\n",
    "    temperature=0.7,\n",
    "    top_p=0.95,\n",
    "    frequency_penalty=0,\n",
    "    presence_penalty=0,\n",
    "    stop=None,\n",
    "    stream=False\n",
    ")\n",
    "print(completion.to_json())\n"
   ]
  }
 ],
 "metadata": {
  "kernelspec": {
   "display_name": "Python 3 (ipykernel)",
   "language": "python",
   "name": "python3"
  },
  "language_info": {
   "codemirror_mode": {
    "name": "ipython",
    "version": 3
   },
   "file_extension": ".py",
   "mimetype": "text/x-python",
   "name": "python",
   "nbconvert_exporter": "python",
   "pygments_lexer": "ipython3",
   "version": "3.11.5"
  }
 },
 "nbformat": 4,
 "nbformat_minor": 5
}
